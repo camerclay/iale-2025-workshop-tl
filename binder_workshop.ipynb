{
  "cells": [
    {
      "cell_type": "markdown",
      "metadata": {
        "id": "yzcNNv6CO0v3"
      },
      "source": [
        "# Building Geospatial Models in GRASS: From Python Workflows to Tangible Landscape\n",
        "\n",
        "***Anna Petrasova and Caitlin Haedrich***\n",
        "\n",
        "*Center for Geospatial Analytics at NC State University*\n",
        "\n",
        "IALE-NA 2025 Workshop\n",
        "\n",
        "In this notebook, we will continue to build our knowledge of the GRASS working environment and toolsets. We will look at basic terrain analysis tools then several common hydrology tools. As an example case study, we'll use elevation data from a small watershed in Eastern North Carolina. Part of the Cape Fear Watershed, Stocking Head Creek flows through a heavily agricultural area and has some of the highest densities of swine farms in the country. In addition to basic conducting basic terrain analyses, we'll use imagery to automatically identify the swine waste storage facilities. Then, we'll compute how much the creek would need to flood in order to innundate the facilities and introduce the waste matter to the environment.\n",
        "\n",
        "By the end of this notebook, you will have experience with:\n",
        "\n",
        "\n",
        "*   [Starting a new GRASS project](#start)\n",
        "*   [Importing data from cloud](#import)\n",
        "*   Working with computational regions\n",
        "*   Displaying data in notebooks\n",
        "*   Segmenting imagery to detect waterbodies\n",
        "*   Common hydrology tools extracting streams, computing flow paths and modeling innundation.\n",
        "\n",
        "At the end, you will develop your own short workflow that we will translate into a Tangible Landscape activity in the second half of the workshop.\n",
        "\n",
        "Let's dive in!\n",
        "\n",
        "---\n",
        "\n"
      ]
    },
    {
      "cell_type": "markdown",
      "metadata": {
        "id": "yd11HgiQS-J7"
      },
      "source": [
        "<a name=\"start\"></a>\n",
        "### Start GRASS and Create a New Project"
      ]
    },
    {
      "cell_type": "markdown",
      "metadata": {
        "id": "mAZXxXloUPX6"
      },
      "source": [
        "Now, we'll import the Python APIs for GRASS, `grass.script` and `grass.jupyter`. We'll need to ask `grass` to check it's `--config` to see where the python packages are then add them to the system path before we can import them."
      ]
    },
    {
      "cell_type": "code",
      "execution_count": null,
      "metadata": {
        "id": "NENbW0eR5bJh"
      },
      "outputs": [],
      "source": [
        "import sys\n",
        "import subprocess\n",
        "\n",
        "# Ask GRASS where its Python packages are to be able to run it from the notebook\n",
        "sys.path.append(\n",
        "    subprocess.check_output([\"grass\", \"--config\", \"python_path\"], text=True).strip()\n",
        ")\n",
        "import grass.script as gs\n",
        "import grass.jupyter as gj"
      ]
    },
    {
      "cell_type": "markdown",
      "metadata": {
        "id": "ahTXAMIHU8Ai"
      },
      "source": [
        "With our packages imported, we can now create a new project called \"iale_workshop\". Projects are defined by a Coordinate Reference System (CRS). We can set the CRS from a georeferenced file (such as a Geotiff), a proj4 string, WKT file or EPSG string. Here, we use [EPSG 3358](https://epsg.io/3358), a projection for NC in meters."
      ]
    },
    {
      "cell_type": "code",
      "execution_count": null,
      "metadata": {
        "id": "gF2oGhFI6Lfb"
      },
      "outputs": [],
      "source": [
        "gs.create_project(\"iale_workshop\", epsg=\"3358\")"
      ]
    },
    {
      "cell_type": "markdown",
      "metadata": {
        "id": "ExfnZjqkWPAn"
      },
      "source": [
        "We start a GRASS session in our new project."
      ]
    },
    {
      "cell_type": "code",
      "execution_count": null,
      "metadata": {
        "id": "CCMdFOBW0rBi"
      },
      "outputs": [],
      "source": [
        "gj.init(\"iale_workshop\")"
      ]
    },
    {
      "cell_type": "markdown",
      "metadata": {
        "id": "QVmEbseosaRW"
      },
      "source": [
        "\n",
        "\n",
        "---\n",
        "\n",
        "\n",
        "<a name=\"import\"></a>\n",
        "## Import Data"
      ]
    },
    {
      "cell_type": "markdown",
      "metadata": {
        "id": "4AZZ1vPDGA7I"
      },
      "source": [
        "Check the computational region in our new project:"
      ]
    },
    {
      "cell_type": "code",
      "execution_count": null,
      "metadata": {
        "id": "Jd_22EgnGJSi"
      },
      "outputs": [],
      "source": [
        "gs.region()"
      ]
    },
    {
      "cell_type": "markdown",
      "metadata": {
        "id": "ZMhGuRafGXcq"
      },
      "source": [
        "There are lots of ways to set the computational region (see [g.region documentation](https://grass.osgeo.org/grass-stable/manuals/g.region.html)). Since we don't have any data in our project yet, we'll set it with coordinates."
      ]
    },
    {
      "cell_type": "code",
      "execution_count": null,
      "metadata": {
        "id": "K-4bge_puKPU"
      },
      "outputs": [],
      "source": [
        "gs.run_command(\"g.region\", n=131934, s=126825, w=702726, e=708443, res=3, flags=\"a\")\n",
        "gs.region()"
      ]
    },
    {
      "cell_type": "markdown",
      "metadata": {
        "id": "H_amRA23s_Dx"
      },
      "source": [
        "We're going to import a digital elevation model (DEM)"
      ]
    },
    {
      "cell_type": "code",
      "execution_count": null,
      "metadata": {
        "id": "9zMj8uc-o1Jv"
      },
      "outputs": [],
      "source": [
        "gs.run_command(\"g.extension\", extension=\"r.in.usgs\")"
      ]
    },
    {
      "cell_type": "markdown",
      "metadata": {
        "id": "rNcMtpKTs93d"
      },
      "source": []
    },
    {
      "cell_type": "code",
      "execution_count": null,
      "metadata": {
        "id": "OOQg4YXZ14Nu"
      },
      "outputs": [],
      "source": [
        "print(gs.read_command(\"r.in.usgs\", product=\"ned\", ned_dataset=\"ned19sec\", output_name=\"elevation\", verbose=True))"
      ]
    },
    {
      "cell_type": "markdown",
      "metadata": {
        "id": "FFhnjlFcpJTR"
      },
      "source": [
        "<details>\n",
        "\n",
        "<summary>Alternative Import Method</summary>\n",
        "\n",
        "### Download with wget and import with `r.import`\n",
        "\n",
        "First, download and unzip with bash.\n",
        "\n",
        "```bash\n",
        "%%bash\n",
        "wget https://prd-tnm.s3.amazonaws.com/StagedProducts/Elevation/19/IMG/ned19_n35x00_w078x00_nc_statewide_2003.zip\n",
        "unzip ned19_n35x00_w078x00_nc_statewide_2003.zip\n",
        "```\n",
        "\n",
        "We'll import our elevation model using [`r.import`](https://grass.osgeo.org/grass-devel/manuals/r.import.html) and create a raster layer called \"elevation\". The `r.import` tool will reproject the data to the project CRS (thereby avoiding any future CRS mismatches - nice!). We also set it to only import the area within the computational region and to resample it using bilinear interpolation to the resolution of the computational region.\n",
        "\n",
        "```python\n",
        "gs.run_command(\"r.import\", input=\"ned19_n35x00_w078x00_nc_statewide_2003.img\", output=\"elevation\", resample=\"bilinear\", extent=\"region\")\n",
        "```\n",
        "\n",
        "</details>"
      ]
    },
    {
      "cell_type": "markdown",
      "metadata": {
        "id": "olKomlznNV4Y"
      },
      "source": [
        "**Knowledge Check:** What is the resolution of \"elevation\" be? Use `gs.read_command(\"r.info\", map=\"elevation\")` to check. Is this different than the computation region resolution?\n",
        "\n",
        "\n"
      ]
    },
    {
      "cell_type": "code",
      "execution_count": null,
      "metadata": {
        "id": "7rdoUJtWNU02"
      },
      "outputs": [],
      "source": []
    },
    {
      "cell_type": "markdown",
      "metadata": {
        "id": "5LFAn1y7N5Ax"
      },
      "source": [
        "Let's display our elevation layer using the `grass.jupyter.Map()` class. The `Map()` class creates and displays GRASS maps as PNG images. `Map()` accepts any [GRASS display module](https://grass.osgeo.org/grass-stable/manuals/display.html) as a method by replacing the \".\" with \"_\" in the module name."
      ]
    },
    {
      "cell_type": "code",
      "execution_count": null,
      "metadata": {
        "id": "cvj4AKIf43zO"
      },
      "outputs": [],
      "source": [
        "map = gj.Map()\n",
        "map.d_rast(map=\"elevation\")\n",
        "map.show()"
      ]
    },
    {
      "cell_type": "markdown",
      "metadata": {
        "id": "MwPX0dPPOR8c"
      },
      "source": [
        "To display the image, we call the show() method. You can also save the image with the save() method.\n",
        "\n",
        "Now for our first terrain analysis example. In the next two cells, we use [r.relief](https://grass.osgeo.org/grass-stable/manuals/r.relief.html) and [r.slope.aspect](https://grass.osgeo.org/grass-stable/manuals/r.slope.aspect.html) to compute a shaded relief map and slope map respectively."
      ]
    },
    {
      "cell_type": "code",
      "execution_count": null,
      "metadata": {
        "id": "YxE_Denb5Nbo"
      },
      "outputs": [],
      "source": [
        "gs.run_command(\"r.relief\", input=\"elevation\", output=\"relief\")\n",
        "map = gj.Map()\n",
        "map.d_shade(color=\"elevation\", shade=\"relief\", brighten=50)\n",
        "map.show()"
      ]
    },
    {
      "cell_type": "code",
      "execution_count": null,
      "metadata": {
        "id": "oNSC5bp_6EuE"
      },
      "outputs": [],
      "source": [
        "gs.run_command(\"r.slope.aspect\", elevation=\"elevation\", slope=\"slope\", format=\"percent\")\n",
        "\n",
        "map = gj.Map()\n",
        "map.d_shade(color=\"slope\", shade=\"relief\", brighten=50)\n",
        "map.d_legend(\n",
        "    raster=\"slope\",\n",
        "    at=(1, 50, 1, 8),\n",
        "    title=\"Slope (%)\",\n",
        "    border_color=\"none\",\n",
        "    flags=\"bt\"\n",
        ")\n",
        "map.d_barscale(at=(73, 5))\n",
        "map.show()"
      ]
    },
    {
      "cell_type": "markdown",
      "metadata": {
        "id": "9tksQKbkShK8"
      },
      "source": [
        "We can also reclassify/recode the slope map. Here, we do it into six categories:\n",
        "* Slopes 0%-2% -> 1\n",
        "* Slopes 2%-5% -> 2\n",
        "* Slopes 5%-8% -> 3\n",
        "* Slopes 8%-15% -> 4\n",
        "* Slopes 15%-30% -> 5\n",
        "* Slopes 30+% -> 6"
      ]
    },
    {
      "cell_type": "code",
      "execution_count": null,
      "metadata": {
        "id": "9nGABb2A8LaJ"
      },
      "outputs": [],
      "source": [
        " # reclassify using rules passed as a string to standard input\n",
        "# 0:2:1 means reclassify interval 0 to 2 percent of slope to category 1\n",
        "rules = ['0:2:1', '2:5:2', '5:8:3', '8:15:4', '15:30:5', '30:*:6']\n",
        "gs.write_command('r.recode', input='slope', output='slope_class',\n",
        "                 rules='-', stdin='\\n'.join(rules))\n",
        "\n",
        "# set new color table: green - yellow - red\n",
        "gs.run_command('r.colors', map='slope_class', color='plasma')\n",
        "\n",
        "# display classified slope map over the relief with a legend and barscale\n",
        "map = gj.Map()\n",
        "map.d_shade(color=\"slope_class\", shade=\"relief\", brighten=50)\n",
        "map.d_legend(\n",
        "    raster=\"slope_class\",\n",
        "    at=(0, 30, 1, 5),\n",
        "    title=\"Class\",\n",
        "    border_color=\"none\",\n",
        "    flags=\"bt\"\n",
        ")\n",
        "map.d_barscale(at=(73, 5))\n",
        "map.show()"
      ]
    },
    {
      "cell_type": "markdown",
      "metadata": {
        "id": "MJJq86-aV3zG"
      },
      "source": [
        "Let's look at one more example of a terrain analysis tool available in GRASS. The [`r.geomorphon`](https://grass.osgeo.org/grass-stable/manuals/r.geomorphon.html) tool classifies terrain into it's different landforms (i.e. peaks, valleys, ridges,...).\n",
        "<img src=\"https://grass.osgeo.org/grass-stable/manuals/legend.png\" />"
      ]
    },
    {
      "cell_type": "code",
      "execution_count": null,
      "metadata": {
        "id": "WZ3z8gxa-ZYc"
      },
      "outputs": [],
      "source": [
        "gs.run_command(\"r.geomorphon\", elevation=\"elevation\", forms=\"landforms\", skip=11, search=25)\n",
        "map = gj.Map()\n",
        "map.d_shade(color=\"landforms\", shade=\"relief\", brighten=50)\n",
        "map.d_legend(\n",
        "    raster=\"landforms\",\n",
        "    at=(0, 40, 1, 5),\n",
        "    title=\"Landforms\",\n",
        "    border_color=\"none\",\n",
        "    flags=\"bt\"\n",
        ")\n",
        "map.d_barscale(at=(73, 5))\n",
        "map.show()"
      ]
    },
    {
      "cell_type": "markdown",
      "metadata": {
        "id": "HtryWA9St0wx"
      },
      "source": [
        "\n",
        "---\n",
        "\n",
        "## Case Study: Swine lagoons\n",
        "\n",
        "### Background\n",
        "\n",
        "North Carolina is one of the top pork producing states in the US, surpassed only by Minnesota and Iowa. The large industry in North carolina consists of hundreds of large-scale farms raise pigs, processing facilities, trucks that transport the animals and fields that grow the grains for feed. Raising over 8 million pigs in a concentrated area creates one big issue: waste.\n",
        "\n",
        "<img src=\"https://raw.githubusercontent.com/chaedri/chaedri.github.io/refs/heads/master/images/CAFOs.png\" />\n",
        "\n",
        "The waste is typically stored in large retention ponds referred to as lagoons. The waste anaerobically digests and then is spread on the nearby fields as fertilizer. However, during catastorphic flooding events such as [Hurricane Florence in 2018](https://www.npr.org/2018/09/22/650698240/hurricane-s-aftermath-floods-hog-lagoons-in-north-carolina), the flood waters can overtop the sides of the lagoon introducing the waste to the surrounding environment.\n",
        "\n",
        "<img src=\"https://modernfarmer.com/wp-content/uploads/2022/02/16442235689_6f9667cc05_k-768x489.jpg\" />\n",
        "\n",
        "Using the Normalized Vegetation Vegetation Index (NDVI) and near infrared band, we will use an image segmentation tool to isolate the lagoons. Then, we'll use some of the hydrology tools to extract the streams and simulated an innudation flood around the streams to see which lagoons will flood.\n",
        "\n",
        "\n",
        "### Part 1: Automated Lagoon Detection\n",
        "First, let's get some aerial imagery of the study area by importing data through a WMS service."
      ]
    },
    {
      "cell_type": "code",
      "execution_count": null,
      "metadata": {
        "id": "a7Mov3kO7L_d"
      },
      "outputs": [],
      "source": [
        "gs.run_command(\"r.in.wms\", url=\"https://imagery.nationalmap.gov/arcgis/services/USGSNAIPPlus/ImageServer/WMSServer\", out=\"ortho\", layer=\"USGSNAIPPlus:NaturalColor\")\n",
        "map = gj.InteractiveMap()\n",
        "map.add_raster(\"ortho\", opacity=0.7)\n",
        "map.show()"
      ]
    },
    {
      "cell_type": "code",
      "execution_count": null,
      "metadata": {
        "id": "m5k47x8ipQtD"
      },
      "outputs": [],
      "source": [
        "gs.run_command(\"r.in.wms\", url=\"https://imagery.nationalmap.gov/arcgis/services/USGSNAIPPlus/ImageServer/WMSServer\", out=\"naip_false\", layer=\"USGSNAIPPlus:FalseColorComposite\")"
      ]
    },
    {
      "cell_type": "code",
      "execution_count": null,
      "metadata": {
        "id": "vJwCO2V5kW4q"
      },
      "outputs": [],
      "source": [
        "map = gj.InteractiveMap()\n",
        "map.add_raster(\"naip_false\", opacity=0.7)\n",
        "map.show()"
      ]
    },
    {
      "cell_type": "markdown",
      "metadata": {
        "id": "TH8ZyRIf7hYm"
      },
      "source": [
        "The NAIP false color image is a composite of the NIR, red and green bands. We use the `r.rgb` tool to separate the bands into separate layers."
      ]
    },
    {
      "cell_type": "code",
      "execution_count": null,
      "metadata": {
        "id": "WZTxaNQxPoWI"
      },
      "outputs": [],
      "source": [
        "gs.run_command(\"r.rgb\", input=\"naip_false\", red=\"nir\", green=\"red\", blue=\"green\")\n",
        "\n",
        "map = gj.SeriesMap()\n",
        "map.add_rasters([\"nir\", \"red\", \"green\"])\n",
        "map.show()"
      ]
    },
    {
      "cell_type": "markdown",
      "metadata": {
        "id": "VxZLeujgAQYH"
      },
      "source": [
        "Compute NDVI:\n",
        "\n",
        "$$\n",
        "NDVI = \\frac{NIR - Red}{NIR + Red}\n",
        "$$"
      ]
    },
    {
      "cell_type": "code",
      "execution_count": null,
      "metadata": {
        "id": "ToQnd0WElxss"
      },
      "outputs": [],
      "source": [
        "gs.mapcalc(\"ndvi = ((float(nir) - float(red)) / (float(nir) + float(red)))\")\n",
        "\n",
        "# Use built-in NDVI color pallete\n",
        "gs.run_command(\"r.colors\", map=\"ndvi\", color=\"ndvi\")\n",
        "\n",
        "map = gj.InteractiveMap()\n",
        "map.add_raster(\"ndvi\", opacity=0.5)\n",
        "map.show()"
      ]
    },
    {
      "cell_type": "markdown",
      "metadata": {
        "id": "ITmyt_dRCndC"
      },
      "source": [
        "Looking at the NIR band, it's clear that the lagoons and water bodies have the lowest values. We will isolate them by segmenting the NDVI image (`i.segment`) then using zonal statistics with the NIR band(`r.stats.zonal`) to find the patches with the lowest NIR values. Using a threshold, we separate the lagoons from the other patches.\n",
        "\n",
        "First, we segment the image."
      ]
    },
    {
      "cell_type": "code",
      "execution_count": null,
      "metadata": {
        "id": "9NpWm-7D-wH9"
      },
      "outputs": [],
      "source": [
        "gs.run_command(\"i.segment\", group=[\"nir\", \"red\", \"green\"], output=\"segments\", threshold=0.5, minsize=20)\n",
        "map = gj.Map()\n",
        "map.d_rast(map=\"segments\")\n",
        "map.show()"
      ]
    },
    {
      "cell_type": "markdown",
      "metadata": {
        "id": "69Xw5MK5Doz8"
      },
      "source": [
        "Use `r.stats.zonal` to compute the average NIR value for each patch."
      ]
    },
    {
      "cell_type": "code",
      "execution_count": null,
      "metadata": {
        "id": "nJKC8q8zA_ux"
      },
      "outputs": [],
      "source": [
        "gs.run_command(\"r.stats.zonal\", base=\"segments\", cover=\"nir\", method=\"average\", output=\"segments_ndvi\")\n",
        "map = gj.Map(width=900, height=500)\n",
        "map.d_rast(map=\"segments_ndvi\")\n",
        "map.d_legend(raster=\"segments_ndvi\", flags=\"dt\", label_step=20)\n",
        "map.show()"
      ]
    },
    {
      "cell_type": "markdown",
      "metadata": {
        "id": "XqY6gXuKEOse"
      },
      "source": [
        "Separate lagoons using a threshold of 40. Cells below the threshold will equal 1, all others will be null."
      ]
    },
    {
      "cell_type": "code",
      "execution_count": null,
      "metadata": {
        "id": "fO1q9x2PCyNR"
      },
      "outputs": [],
      "source": [
        "gs.mapcalc(\"lagoons = if(segments_ndvi < 40, 1, null())\")\n",
        "map = gj.InteractiveMap()\n",
        "map.add_raster(\"lagoons\", opacity=0.7)\n",
        "map.show()"
      ]
    },
    {
      "cell_type": "markdown",
      "metadata": {
        "id": "xHzRtm2aEqUq"
      },
      "source": [
        "Finally, we'll place a vector point in the centroid of each lagoon."
      ]
    },
    {
      "cell_type": "code",
      "execution_count": null,
      "metadata": {
        "id": "0odcb2tNDFST"
      },
      "outputs": [],
      "source": [
        "gs.run_command(\"r.to.vect\", input=\"lagoons\", output=\"lagoons\", type=\"area\")\n",
        "gs.run_command(\"v.type\", input=\"lagoons\", output=\"lagoon_points\", from_type=\"centroid\", to_type=\"point\")\n",
        "\n",
        "map = gj.Map()\n",
        "map.d_rast(map=\"ortho\")\n",
        "map.d_vect(map=\"lagoon_points\", size=15, icon=\"basic/point\")\n",
        "map.show()"
      ]
    },
    {
      "cell_type": "markdown",
      "metadata": {
        "id": "b0mn8kLvu48W"
      },
      "source": [
        "Tada! We have identified all the lagoons in the study area.\n",
        "\n",
        "\n",
        "### Part 2: Lagoon Flood Risk\n",
        "\n",
        "Let's use these lagoon points to answer 4 questions:\n",
        "1. If the lagoons overflowed, what path would the waste travel to the nearest waterway?\n",
        "2. If the stream water level rose 1 meter, would any of the lagoon be breached?\n",
        "3. What is the upstream contributing area for a hypothetical sample point?\n",
        "4. What are the overland flow dynamics during a heavy rainstorm in the upstream contributing area?"
      ]
    },
    {
      "cell_type": "markdown",
      "metadata": {
        "id": "WJl38-WtLcEs"
      },
      "source": [
        "__Question 1:__ *If the lagoons overflowed, what path would the waste travel to the nearest waterway?*\n",
        "\n",
        "The `r.watershed` tool is a popular and powerful tool for hydrology. Check out all of the outputs it can compute in the [manual page](https://grass.osgeo.org/grass-devel/manuals/r.watershed.html). Here we'll use it to compute the flow accumulation (how many cells are upstream of a given cell) and drainage direction (what direction a particle would flow from each cell). Then, we'll use [`r.path`](https://grass.osgeo.org/grass-devel/manuals/r.path.html) to trace the route of the waste being transported downhill from the lagoon."
      ]
    },
    {
      "cell_type": "code",
      "execution_count": null,
      "metadata": {
        "id": "BzDFxoIg9CDQ"
      },
      "outputs": [],
      "source": [
        "gs.run_command(\"r.watershed\", elevation=\"elevation\", accumulation=\"accumulation\", drainage=\"drainage\")"
      ]
    },
    {
      "cell_type": "code",
      "execution_count": null,
      "metadata": {
        "id": "4bX0AJflzjCj"
      },
      "outputs": [],
      "source": [
        "map = gj.InteractiveMap()\n",
        "map.add_raster(\"accumulation\", opacity=0.5)\n",
        "map.show()"
      ]
    },
    {
      "cell_type": "code",
      "execution_count": null,
      "metadata": {
        "id": "RfcdrnlELxbT"
      },
      "outputs": [],
      "source": [
        "gs.run_command(\"r.path\", input=\"drainage\", vector_path=\"drain\", start_points=\"lagoon_points\")"
      ]
    },
    {
      "cell_type": "code",
      "execution_count": null,
      "metadata": {
        "id": "o8f4tlIWGo4t"
      },
      "outputs": [],
      "source": [
        "map = gj.Map()\n",
        "map.d_shade(color=\"ndvi\", shade=\"relief\", brighten=50)\n",
        "map.d_vect(map=\"drain\", width=1, color=\"blue\")\n",
        "map.show()"
      ]
    },
    {
      "cell_type": "markdown",
      "metadata": {
        "id": "UYwyog18L1OX"
      },
      "source": [
        "__Question 2:__ *If the stream water level rose 1 meter, would any of the lagoon be breached?*\n",
        "\n",
        "To answer this question, we'll use the HAND (height above nearest drainage) method to model the flood [(Nobre et al., 2011)](https://www.sciencedirect.com/science/article/pii/S0022169411002599).\n",
        "\n",
        "First, we'll add the two extensions we need for this workflow."
      ]
    },
    {
      "cell_type": "code",
      "execution_count": null,
      "metadata": {
        "id": "oINy4SvJBoOc"
      },
      "outputs": [],
      "source": [
        "gs.run_command(\"g.extension\", extension=\"r.lake.series\")\n",
        "gs.run_command(\"g.extension\", extension=\"r.stream.distance\")"
      ]
    },
    {
      "cell_type": "markdown",
      "metadata": {
        "id": "etOohhPfMdh5"
      },
      "source": [
        "Use the elevation and the flow accumulation raster we computed with `r.watershed` to extract the streams and vectors. The threshold is the minimum flow accumulation for a cell to be part of the stream network."
      ]
    },
    {
      "cell_type": "code",
      "execution_count": null,
      "metadata": {
        "id": "pBiWwEUHBujb"
      },
      "outputs": [],
      "source": [
        "gs.run_command(\"r.stream.extract\", elevation=\"elevation\", accumulation=\"accumulation\", stream_raster=\"streams\", stream_vector=\"streams\", direction=\"direction\", threshold=100000)\n",
        "map = gj.Map()\n",
        "map.d_shade(color=\"elevation\", shade=\"relief\", brighten=50)\n",
        "map.d_vect(map=\"streams\", width=1, color=\"blue\", layer=1)\n",
        "map.show()"
      ]
    },
    {
      "cell_type": "markdown",
      "metadata": {
        "id": "G6uyH1FJNS1c"
      },
      "source": [
        "The [`r.lake`](https://grass.osgeo.org/grass-devel/manuals/r.lake.html) tool is a \"bathtub\" model for flooding."
      ]
    },
    {
      "cell_type": "code",
      "execution_count": null,
      "metadata": {
        "id": "dsAhkN4nELIQ"
      },
      "outputs": [],
      "source": [
        "gs.run_command(\"r.lake\", elevation=\"elevation\", water_level=25, lake=\"flood\", seed=\"streams\")\n",
        "map = gj.Map()\n",
        "map.d_shade(color=\"flood\", shade=\"relief\", brighten=50)\n",
        "map.d_vect(map=\"streams\", width=1, color=\"blue\", layer=1)\n",
        "map.show()"
      ]
    },
    {
      "cell_type": "markdown",
      "metadata": {
        "id": "TMCMg2VdOqvL"
      },
      "source": [
        "As we can see above, `r.lake` is filling the DEM from the lowest point on the the streams network. But what if we wanted to flood each section of the stream by a meter? For this, we can use a height above nearest drainage (HAND) raster instead of the elevation raster for the \"elevation\" parameter.\n",
        "\n",
        "We can create the HAND raster using [`r.stream.distance`](https://grass.osgeo.org/grass-devel/manuals/addons/r.stream.distance.html)."
      ]
    },
    {
      "cell_type": "code",
      "execution_count": null,
      "metadata": {
        "id": "qlMxHY7fDdfF"
      },
      "outputs": [],
      "source": [
        "gs.run_command(\"r.stream.distance\", stream_rast=\"streams\", direction=\"direction\", elevation=\"elevation\", method=\"downstream\", difference=\"HAND\")\n",
        "map = gj.Map()\n",
        "map.d_shade(color=\"HAND\", shade=\"relief\", brighten=50)\n",
        "map.d_vect(map=\"streams\", width=1, color=\"blue\", layer=1)\n",
        "map.show()"
      ]
    },
    {
      "cell_type": "code",
      "execution_count": null,
      "metadata": {
        "id": "LLcfFfrNEpW1"
      },
      "outputs": [],
      "source": [
        "gs.run_command(\"r.lake\", elevation=\"HAND\", water_level=1, lake=\"flood\", seed=\"streams\")\n",
        "map = gj.Map()\n",
        "map.d_shade(color=\"flood\", shade=\"relief\", brighten=50)\n",
        "map.d_rast(map=\"lagoons\")\n",
        "map.d_vect(map=\"streams\", width=1, color=\"blue\", layer=1)\n",
        "map.show()"
      ]
    },
    {
      "cell_type": "markdown",
      "metadata": {
        "id": "MGpibgYzPl-F"
      },
      "source": [
        "To create a timeseries of the innundation, we can use [`r.lake.series`](https://grass.osgeo.org/grass-devel/manuals/addons/r.lake.series.html)."
      ]
    },
    {
      "cell_type": "code",
      "execution_count": null,
      "metadata": {
        "id": "9TKSC_BpHIoq"
      },
      "outputs": [],
      "source": [
        "gs.run_command(\"r.lake.series\", elevation=\"HAND\", seed_raster=\"streams\", start_water_level=0, end_water_level=1, water_level_step=0.1, output=\"inundation\")\n"
      ]
    },
    {
      "cell_type": "code",
      "execution_count": null,
      "metadata": {
        "id": "mcWpg2pIHqgU"
      },
      "outputs": [],
      "source": [
        "map = gj.TimeSeriesMap()\n",
        "map.d_rast(map=\"relief\")\n",
        "map.d_rast(map=\"lagoons\")\n",
        "map.add_raster_series(\"inundation\")\n",
        "map.show()"
      ]
    },
    {
      "cell_type": "markdown",
      "metadata": {
        "id": "a_Ly3Gt8QAKv"
      },
      "source": [
        "It looks like one lagoon would be breached and a few more are very close to flooding."
      ]
    },
    {
      "cell_type": "markdown",
      "metadata": {
        "id": "YwCOUrkYP_3F"
      },
      "source": [
        "__Question 3:__ *What is the upstream contributing area for a hypothetical sample point?*\n",
        "\n",
        "To do this, we will extract a coordinate from a section of stream and then use [`r.water.outlet`](https://grass.osgeo.org/grass-devel/manuals/r.water.outlet.html) with the drainage direction raster to compute the upstream contribute area."
      ]
    },
    {
      "cell_type": "code",
      "execution_count": null,
      "metadata": {
        "id": "wwtTUJQ7J76K"
      },
      "outputs": [],
      "source": [
        "map = gj.Map()\n",
        "map.d_rast(map=\"relief\")\n",
        "map.d_vect(map=\"streams\", color=\"blue\")\n",
        "map.d_vect(map=\"streams\", display=\"cat\", type=\"point\", label_color=\"white\", label_size=10)\n",
        "map.show()"
      ]
    },
    {
      "cell_type": "markdown",
      "metadata": {
        "id": "xEIQ_rY8UlCj"
      },
      "source": [
        "Let's use point 13. Vector attributes are stored in a SQL database inside the project. We use [`v.to.db`](https://grass.osgeo.org/grass-devel/manuals/v.to.db.html) to add the feature coordinates to the attribute table then [`v.db.select`](https://grass.osgeo.org/grass-devel/manuals/v.db.select.html) to select the coordinates and cats and add them to a pandas dataframe."
      ]
    },
    {
      "cell_type": "code",
      "execution_count": null,
      "metadata": {
        "id": "eZTlF9xPKh3G"
      },
      "outputs": [],
      "source": [
        "import pandas as pd\n",
        "\n",
        "gs.run_command(\"v.to.db\", map=\"streams\", option=\"coor\", columns=\"x,y\")\n",
        "df = pd.DataFrame(gs.parse_command(\"v.db.select\", map=\"streams\", columns=\"cat,x,y\", format=\"json\")[\"records\"])\n",
        "df\n"
      ]
    },
    {
      "cell_type": "code",
      "execution_count": null,
      "metadata": {
        "id": "QqHPwm7UOGd9"
      },
      "outputs": [],
      "source": [
        "[df.loc[12, 'x'], df.loc[12, 'y']]"
      ]
    },
    {
      "cell_type": "markdown",
      "metadata": {
        "id": "9PjCnOm2WYhY"
      },
      "source": [
        "Finally, use [`r.water.outlet`](https://grass.osgeo.org/grass-devel/manuals/r.water.outlet.html) to compute the upstream contributing area."
      ]
    },
    {
      "cell_type": "code",
      "execution_count": null,
      "metadata": {
        "id": "jTWuz1k3Nnbp"
      },
      "outputs": [],
      "source": [
        "gs.run_command(\"r.water.outlet\", input=\"direction\", output=\"basin_13\", coordinates=[df.loc[12, 'x'], df.loc[12, 'y']])\n",
        "map = gj.Map()\n",
        "map.d_shade(color=\"basin_13\", shade=\"relief\", brighten=50)\n",
        "map.show()"
      ]
    },
    {
      "cell_type": "markdown",
      "metadata": {
        "id": "_FOek5lNQ9Yc"
      },
      "source": [
        "__Question 4:__ *What are the overland flow dynamics during a heavy rainstorm in basin 13?*\n",
        "\n",
        "We're going to use [`r.sim.water`](https://grass.osgeo.org/grass-devel/manuals/r.sim.water.html) to model overland flow.\n",
        "\n",
        "ADD MORE ON SIMWE?\n",
        "\n",
        "First, let's set the computational region to the extent of `basin_13` and a lower resolution (6 meters instead of 3) for faster compute times."
      ]
    },
    {
      "cell_type": "code",
      "execution_count": null,
      "metadata": {
        "id": "hVcFCioMWo92"
      },
      "outputs": [],
      "source": [
        "gs.run_command(\"g.region\", zoom=\"basin_13\", res=6)"
      ]
    },
    {
      "cell_type": "markdown",
      "metadata": {
        "id": "vIhwP1GsYbw1"
      },
      "source": [
        "Run `r.sim.water` after computing the x and y direction derivatives. We'll run a 30-minute rainstorm using the default rainfall rate of 50 mm/hr. The output will be a series a map showing water depth at each minute."
      ]
    },
    {
      "cell_type": "code",
      "execution_count": null,
      "metadata": {
        "id": "5QmX349oGuDo"
      },
      "outputs": [],
      "source": [
        "gs.run_command('r.slope.aspect', elevation=\"elevation\", dx=\"dx\", dy=\"dy\")\n",
        "gs.run_command('r.sim.water', elevation=\"elevation\", dx=\"dx\", dy=\"dy\", depth=\"depth\", flags=\"t\", niterations=30)"
      ]
    },
    {
      "cell_type": "markdown",
      "metadata": {
        "id": "zmdqK0kNYw-Z"
      },
      "source": [
        "Apply a mask over the areas outside `basin_13`. Now, only areas inside `basin 13` will be displayed or used in any computation. Unlike computational region, `r.mask` can have boundaries that are not rectangular."
      ]
    },
    {
      "cell_type": "code",
      "execution_count": null,
      "metadata": {
        "id": "T4gsRwUSbVE4"
      },
      "outputs": [],
      "source": [
        "gs.run_command(\"r.mask\", raster=\"basin_13\")"
      ]
    },
    {
      "cell_type": "markdown",
      "metadata": {
        "id": "nVYVnHl8ZDgd"
      },
      "source": [
        "Finally, we'll create a temporal dataset and register the output depth maps. GRASS has [a library of tools](https://grass.osgeo.org/grass-devel/manuals/temporalintro.html) for temporal analyses but here, we will just create an animation of the timeseries."
      ]
    },
    {
      "cell_type": "code",
      "execution_count": null,
      "metadata": {
        "id": "W8oNd0fGQILx"
      },
      "outputs": [],
      "source": [
        "# Create a time series\n",
        "gs.run_command(\"t.create\",\n",
        "               output=\"depth\",\n",
        "               temporaltype=\"relative\",\n",
        "               title=\"Overland flow depth\",\n",
        "               description=\"Overland flow depth\")\n",
        "\n",
        "# Register the time series\n",
        "maps = gs.list_strings(type=\"raster\", pattern=\"depth*\")\n",
        "gs.run_command(\"t.register\", input=\"depth\", maps=maps)"
      ]
    },
    {
      "cell_type": "code",
      "execution_count": null,
      "metadata": {
        "id": "5pjxNaw8P-uy"
      },
      "outputs": [],
      "source": [
        "flow_map = gj.TimeSeriesMap()\n",
        "flow_map.add_raster_series(\"depth\")\n",
        "flow_map.show()"
      ]
    },
    {
      "cell_type": "code",
      "execution_count": null,
      "metadata": {
        "id": "8ZXsJezaRUqJ"
      },
      "outputs": [],
      "source": [
        "# Remove mask\n",
        "gs.run_command(\"r.mask\", flags=\"r\")\n",
        "# Re-set Region\n",
        "gs.run_command(\"g.region\", raster=\"elevation\")"
      ]
    },
    {
      "cell_type": "markdown",
      "metadata": {
        "id": "6m4Wg-qUjMOX"
      },
      "source": [
        "---\n",
        "\n",
        "## Challenge: Develop your own workflow\n",
        "\n",
        "We'll take the next 20 minutes to each work develop our own workflow based on a DEM. In the final part of the workshop, we'll adapt these workflows for Tangible Landscape.\n",
        "\n",
        "Here are some activity ideas, sorted by complexity:\n",
        "\n",
        "**Easier**\n",
        "* Compute watersheds and then compute average slope value for each watershed. Experiment with watershed size. Use [r.watershed](https://grass.osgeo.org/grass-devel/manuals/r.watershed.html), [r.slope.aspect](https://grass.osgeo.org/grass-devel/manuals/r.slope.aspect.html) and [r.stats.zonal](https://grass.osgeo.org/grass-devel/manuals/r.stats.zonal.html).\n",
        "\n",
        "* compute solar irradiation (daily radiation sum in Wh/m2.day) for a given day using r.sun\n",
        "\n",
        "\n",
        "**Medium**\n",
        "* Find the highest (or lowest point) on the landscape and compute a viewshed from that point. Use [r.univar](https://grass.osgeo.org/grass-devel/manuals/r.univar.html) to get the elevation value, [r.mapcalc](https://grass.osgeo.org/grass-devel/manuals/r.mapcalc.html) to extract the raster cell, [r.stats](https://grass.osgeo.org/grass-devel/manuals/r.stast.html) to get the coordinate and\n",
        "[r.viewshed](https://grass.osgeo.org/grass-devel/manuals/r.viewshed.html) to compute the viewshed.\n",
        "* Compute the least cost path ([r.cost](https://grass.osgeo.org/grass-devel/manuals/r.cost.html) followed up [r.drain](https://grass.osgeo.org/grass-devel/manuals/r.drain.html)) between two points (e.g., two laggon points) where the cost is the slope (i.e. the flatest path between two points).\n",
        "\n",
        "\n",
        "**Challenging**\n",
        "* Create a lake where water level is relative to the altitude of the seed cell. Use function script.raster.raster_what() to obtain the elevation value of the DEM and create a lake with water level being for example 5 m higher.\n",
        "* Derive peaks using either r.geomorphon or r.param.scale and convert them to points (using r.to.vect and v.to.points). From each of those points compute visibility with observer height of your choice a derive a cumulative viewshed layer where the value of each cell represents the number of peaks the cell is visible from (use r.series).\n",
        "\n"
      ]
    },
    {
      "cell_type": "code",
      "execution_count": null,
      "metadata": {
        "id": "TisLcWN7pkBh"
      },
      "outputs": [],
      "source": []
    },
    {
      "cell_type": "markdown",
      "metadata": {
        "id": "ZqZWCOVLjbjV"
      },
      "source": [
        "\n",
        "\n",
        "---\n",
        "\n",
        "\n",
        "\n",
        "## From Notebook Workflow to Executable Script\n",
        "\n",
        "Tangible Landscape uses scripts to execute analyses on the scanned terrain. Here we show some examples of how to structure GRASS Python scripts.\n",
        "\n",
        "The `%%writefile` cell magic takes the content of the cell and writes it to a file. The `%%python` magic will execute the file.\n",
        "Name your file in some unique name, e.g. `yourlastname.py`"
      ]
    },
    {
      "cell_type": "code",
      "execution_count": null,
      "metadata": {
        "id": "nzxQhfeWjZ-r"
      },
      "outputs": [],
      "source": [
        "%%writefile yourlastname.py\n",
        "import grass.script as gs\n",
        "\n",
        "# modify here\n",
        "# change function name\n",
        "def myanalysis(elevation):\n",
        "    \"\"\"Computes profile curvature\"\"\"\n",
        "    gs.run_command(\"r.slope.aspect\", elevation=elevation, pcurvature=\"pcurvature\")\n",
        "\n",
        "if __name__ == \"__main__\":\n",
        "    elevation = \"elevation\"\n",
        "    myanalysis(elevation=elevation)"
      ]
    },
    {
      "cell_type": "markdown",
      "metadata": {
        "id": "6zohRVTaF3Br"
      },
      "source": [
        "Now execute the script:"
      ]
    },
    {
      "cell_type": "code",
      "execution_count": null,
      "metadata": {
        "id": "s8zzliAFso9r"
      },
      "outputs": [],
      "source": [
        "%%python yourlastname.py"
      ]
    },
    {
      "cell_type": "markdown",
      "metadata": {
        "id": "3E4TBKjeF6fG"
      },
      "source": [
        "And visualize the result using the `grass.jupyter` API:"
      ]
    },
    {
      "cell_type": "code",
      "execution_count": null,
      "metadata": {
        "id": "ajp14v-QsozD"
      },
      "outputs": [],
      "source": [
        "map = gj.Map()\n",
        "map.d_rast(map=\"pcurvature\")\n",
        "map.show()"
      ]
    },
    {
      "cell_type": "markdown",
      "metadata": {
        "id": "t-LZoFD9rnJq"
      },
      "source": [
        "Now if your workflow requires a vector points map or coordinates, use this template:"
      ]
    },
    {
      "cell_type": "code",
      "execution_count": null,
      "metadata": {
        "id": "JecIgRptrmaB"
      },
      "outputs": [],
      "source": [
        "%%writefile yourlastname.py\n",
        "import grass.script as gs\n",
        "\n",
        "def get_coordinates(points):\n",
        "    \"\"\"Helper function to get coordinate pairs from a vector point layer.\n",
        "    Do not modify.\"\"\"\n",
        "    data = gs.read_command(\"v.out.ascii\", input=points, separator=\"comma\").splitlines()\n",
        "    return [[float(coor) for coor in point.split(\",\")[:2]] for point in data]\n",
        "\n",
        "# modify here\n",
        "# change function name\n",
        "def myanalysis(elevation, points=None):\n",
        "    \"\"\"Traces a flow through an elevation model\"\"\"\n",
        "    coordinates = get_coordinates(points)\n",
        "    gs.run_command(\"r.drain\", input=elevation, output=\"drain\", output=\"drain_raster\", drain=\"drain_vector\", start_coordinates=coordinates)\n",
        "\n",
        "if __name__ == \"__main__\":\n",
        "    elevation = \"elevation\"\n",
        "    points = \"lagoon_points\"\n",
        "    myanalysis(elevation=elevation, points=points)"
      ]
    },
    {
      "cell_type": "code",
      "execution_count": null,
      "metadata": {
        "id": "aZGchSbHkY2v"
      },
      "outputs": [],
      "source": [
        "%%python yourlastname.py"
      ]
    },
    {
      "cell_type": "code",
      "execution_count": null,
      "metadata": {
        "id": "-hGVX4TEkuL7"
      },
      "outputs": [],
      "source": [
        "map = gj.Map()\n",
        "map.d_rast(map=\"elevation\")\n",
        "map.d_vect(map=\"drain_vector\")\n",
        "map.show()"
      ]
    }
  ],
  "metadata": {
    "colab": {
      "provenance": []
    },
    "kernelspec": {
      "display_name": "Python 3",
      "name": "python3"
    },
    "language_info": {
      "name": "python"
    }
  },
  "nbformat": 4,
  "nbformat_minor": 0
}
